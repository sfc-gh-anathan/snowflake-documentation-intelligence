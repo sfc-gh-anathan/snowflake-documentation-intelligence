{
 "metadata": {
  "kernelspec": {
   "display_name": "Streamlit Notebook",
   "name": "streamlit"
  },
  "lastEditStatus": {
   "notebookId": "ww4ks2q5edydx2wsgqf3",
   "authorId": "2872018607748",
   "authorName": "ANATHAN",
   "authorEmail": "adam.nathan@snowflake.com",
   "sessionId": "2199360e-ce45-43e6-8ff8-e68331cf0195",
   "lastEditTime": 1759337537320
  }
 },
 "nbformat_minor": 5,
 "nbformat": 4,
 "cells": [
  {
   "cell_type": "markdown",
   "id": "badfd9fd-41e1-4cf3-95bd-492a874070b7",
   "metadata": {
    "name": "SUMMARY_OF_OBJECTS",
    "collapsed": false
   },
   "source": "# Summary of Objects Created\n\nThis notebook sets up a complete Snowflake Intelligence environment with Cortex AI capabilities for documentation assistance.\n\n## Account Configuration\n- Enables Cortex cross-region functionality (AWS_US)\n\n## Security & Access\n- **Role**: `snowflake_intelligence_admin` with privileges to create warehouses, databases, integrations, and agents\n- **User Configuration**: Assigns the admin role to current user and sets default warehouse\n\n## Infrastructure\n- **Warehouse**: `Snow_Intelligence_wh` (XSMALL, auto-suspend 300s, auto-resume enabled)\n- **Database**: `snowflake_intelligence`\n- **Schema**: `snowflake_intelligence.agents` (with agent creation privileges)\n\n## AI Agent\n- **Agent**: `Snowflake_Documentation_Assistant` - An intelligent documentation assistant that:\n  - Uses Cortex Search to query official Snowflake documentation\n  - Provides accurate answers about Snowflake features, syntax, and best practices\n  - Includes sample questions for common use cases\n  - Connected to the shared Snowflake documentation search service\n\n## Key Features\n- Complete role-based access control setup\n- Optimized warehouse configuration for AI workloads  \n- Ready-to-use documentation search capabilities\n- Integrated with official Snowflake documentation corpus\n\nThis setup provides a production-ready environment for AI-powered Snowflake documentation assistance.notebook"
  },
  {
   "cell_type": "markdown",
   "id": "20934b4f-5b22-4c88-b033-d1190762f5d6",
   "metadata": {
    "name": "LOAD_SNOWFLAKE_KBE",
    "collapsed": false
   },
   "source": "Load Snowflake Documentation through the Snowflake Marketplace.\nThis is a knowledge based extension (please briefly explain)\nwebsite: https://app.snowflake.com/marketplace/listing/GZSTZ67BY9OQ4/snowflake-snowflake-documentation\nleave the name alone. add public to the roles available\n\n"
  },
  {
   "cell_type": "code",
   "id": "646155b3-6b50-4683-b2df-afee7143c6d9",
   "metadata": {
    "language": "sql",
    "name": "SETUP_CROSS_REGION"
   },
   "outputs": [],
   "source": "use role accountadmin;\nALTER ACCOUNT SET CORTEX_ENABLED_CROSS_REGION = 'AWS_US';",
   "execution_count": null
  },
  {
   "cell_type": "code",
   "id": "236045a3-f7f5-4ba7-aaa5-0e011d21b979",
   "metadata": {
    "language": "sql",
    "name": "CREATE_SNOWFLAKE_INTELLIGENCE_ROLE"
   },
   "outputs": [],
   "source": "use role accountadmin;\ncreate role if not exists snowflake_intelligence_admin;\ngrant create warehouse on account to role snowflake_intelligence_admin;\ngrant create database on account to role snowflake_intelligence_admin;\ngrant create integration on account to role snowflake_intelligence_admin;",
   "execution_count": null
  },
  {
   "cell_type": "code",
   "id": "9c99787a-8d82-4574-b9c9-0b065a45d1d5",
   "metadata": {
    "language": "sql",
    "name": "CREATE_SNOW_INTELLIGENCE_WH"
   },
   "outputs": [],
   "source": "use role accountadmin;\n\n-- Create a dedicated warehouse for the demo with auto-suspend/resume\nCREATE OR REPLACE WAREHOUSE Snow_Intelligence_wh \n    WITH WAREHOUSE_SIZE = 'XSMALL'\n    AUTO_SUSPEND = 300\n    AUTO_RESUME = TRUE;\n\n-- Grant usage on warehouse to admin role\nGRANT USAGE ON WAREHOUSE Snow_Intelligence_wh TO ROLE snowflake_intelligence_admin;\n\n-- Grant usage to PUBLIC (needed for agent access later)\nGRANT USAGE ON WAREHOUSE Snow_Intelligence_wh TO ROLE PUBLIC;",
   "execution_count": null
  },
  {
   "cell_type": "code",
   "id": "5420b73c-e69a-4f95-b4e1-f1934479f280",
   "metadata": {
    "language": "sql",
    "name": "SET_DEFAULTS_ON_CURRENT_USER"
   },
   "outputs": [],
   "source": "-- If you want to use a variable for clarity/performance\nset current_user_name = current_user();\ngrant role snowflake_intelligence_admin to user identifier($current_user_name);\nalter user identifier($current_user_name) set default_role = snowflake_intelligence_admin;\nalter user identifier($current_user_name) set default_warehouse = Snow_Intelligence_wh;",
   "execution_count": null
  },
  {
   "cell_type": "code",
   "id": "380d3ea8-a525-4e12-8327-1febd842e1ab",
   "metadata": {
    "language": "sql",
    "name": "CREATE_SNOWFLAKE_INTELLIGENCE_DB"
   },
   "outputs": [],
   "source": "use role snowflake_intelligence_admin;\ncreate database if not exists snowflake_intelligence;\ncreate schema if not exists snowflake_intelligence.agents;\ngrant create agent on schema snowflake_intelligence.agents to role snowflake_intelligence_admin;",
   "execution_count": null
  },
  {
   "cell_type": "code",
   "id": "d2ce6311-5ca8-46eb-a065-608d7acdc529",
   "metadata": {
    "language": "sql",
    "name": "CREATE_AGENT"
   },
   "outputs": [],
   "source": "use role snowflake_intelligence_admin;\n\n-- CREATES A SNOWFLAKE INTELLIGENCE AGENT WITH CORTEX SEARCH\nCREATE OR REPLACE AGENT SNOWFLAKE_INTELLIGENCE.AGENTS.Snowflake_Documentation_Assistant\nWITH PROFILE='{ \"display_name\": \"Snowflake Documentation Assistant\" }'\n    COMMENT=$$ An intelligent agent that helps users find answers to Snowflake questions by searching official Snowflake documentation. Provides accurate, up-to-date information on features, syntax, best practices, and troubleshooting. $$\nFROM SPECIFICATION $$\n{\n  \"models\": {\n    \"orchestration\": \"auto\"\n  },\n  \"instructions\": {\n    \"response\": \"You are a helpful Snowflake documentation assistant with deep knowledge of Snowflake's features and capabilities. When users ask questions about Snowflake, search the official documentation to provide accurate, detailed answers. Always cite the source documentation when providing information. Format code examples clearly with proper syntax highlighting. If a user's question is unclear, ask for clarification. Provide step-by-step instructions when explaining procedures. Be concise but thorough in your explanations.\",\n    \"orchestration\": \"Always search the Snowflake documentation first when users ask questions about Snowflake features, syntax, configuration, or troubleshooting. Use the search results to provide comprehensive answers backed by official documentation. If the search doesn't return relevant results, let the user know and suggest they rephrase their question or check if they're asking about a feature that might not be documented yet. When multiple documentation sources are relevant, reference the most appropriate ones for the user's specific question.\",\n    \"sample_questions\": [\n      {\n        \"question\": \"How do I create a Cortex Search service in Snowflake?\"\n      },\n      {\n        \"question\": \"What are the different types of Snowflake tables and when should I use each?\"\n      },\n      {\n        \"question\": \"How do I set up data sharing between Snowflake accounts?\"\n      }\n    ]\n  },\n  \"tools\": [\n    {\n      \"tool_spec\": {\n        \"type\": \"cortex_search\",\n        \"name\": \"Search Snowflake Documentation\",\n        \"description\": \"Searches Snowflake's official documentation to find relevant information about Snowflake features, SQL syntax, configuration options, best practices, troubleshooting guides, and API references. Returns the most relevant documentation chunks with titles and source URLs.\"\n      }\n    }\n  ],\n  \"tool_resources\": {\n    \"Search Snowflake Documentation\": {\n      \"id_column\": \"SOURCE_URL\",\n      \"max_results\": 5,\n      \"name\": \"SNOWFLAKE_DOCUMENTATION.SHARED.CKE_SNOWFLAKE_DOCS_SERVICE\",\n      \"title_column\": \"DOCUMENT_TITLE\"\n    }\n  }\n}\n$$;",
   "execution_count": null
  },
  {
   "cell_type": "code",
   "id": "f5b1186d-035e-469b-ab11-747ae7e600df",
   "metadata": {
    "language": "sql",
    "name": "GRANT_ACCESS"
   },
   "outputs": [],
   "source": "use role snowflake_intelligence_admin;\n\n-- Ensure database and schema access for PUBLIC\nGRANT USAGE ON DATABASE SNOWFLAKE_INTELLIGENCE TO ROLE PUBLIC;\nGRANT USAGE ON SCHEMA SNOWFLAKE_INTELLIGENCE.AGENTS TO ROLE PUBLIC;\n\n-- Missing: Grant usage on the specific agent\nGRANT USAGE ON AGENT SNOWFLAKE_INTELLIGENCE.AGENTS.Snowflake_Documentation_Assistant TO ROLE PUBLIC;",
   "execution_count": null
  }
 ]
}